{
 "cells": [
  {
   "cell_type": "code",
   "execution_count": null,
   "id": "0984df5b",
   "metadata": {},
   "outputs": [],
   "source": [
    "def input_student_info():\n",
    "    \"\"\"Gather student information including name, age, and grades\"\"\"\n",
    "    name = input(\"Enter student name: \")\n",
    "    age = int(input(\"Enter student age: \"))\n",
    "    \n",
    "    # Get course names and grades\n",
    "    courses = {}\n",
    "    while True:\n",
    "        num_courses = int(input(\"How many courses? (2 or 3): \"))\n",
    "        if 2 <= num_courses <= 3:\n",
    "            break\n",
    "        else:\n",
    "            print(\"Please enter 2 or 3 courses only.\")\n",
    "    for i in range(num_courses):\n",
    "        course_name = input(f\"Enter name for course {i+1}: \")\n",
    "        courses[course_name] = float(input(f\"Enter grade for {course_name}: \"))\n",
    "    \n",
    "    return {\"name\": name, \"age\": age, \"courses\": courses}\n",
    "\n",
    "def calculate_average(grades):\n",
    "    \"\"\"Calculate average of grades\"\"\"\n",
    "    return sum(grades.values()) / len(grades)\n",
    "\n",
    "def display_student_info(student):\n",
    "    \"\"\"Display student information with average grade\"\"\"\n",
    "    print(\"\\nStudent Information:\")\n",
    "    print(f\"Name: {student['name']}\")\n",
    "    print(f\"Age: {student['age']}\")\n",
    "    print(\"Grades:\")\n",
    "    for course, grade in student['courses'].items():\n",
    "        print(f\"  - {course}: {grade}\")\n",
    "    print(f\"Average Grade: {student['average']:.2f}\")\n",
    "\n",
    "# Main program\n",
    "student = input_student_info()\n",
    "student[\"average\"] = calculate_average(student[\"courses\"])\n",
    "display_student_info(student)"
   ]
  },
  {
   "cell_type": "code",
   "execution_count": null,
   "id": "367c3d32",
   "metadata": {},
   "outputs": [],
   "source": []
  },
  {
   "cell_type": "code",
   "execution_count": null,
   "id": "9b2d995b",
   "metadata": {},
   "outputs": [],
   "source": [
    "def check_palindrome():\n",
    "    \"\"\"Check if input string is a palindrome (case-insensitive, ignores spaces)\"\"\"\n",
    "    text = input(\"Enter a string: \").strip().lower()\n",
    "    \n",
    "    # Remove spaces and non-alphanumeric characters\n",
    "    cleaned = ''.join(char for char in text if char.isalnum())\n",
    "    \n",
    "    # Check if palindrome\n",
    "    if cleaned == cleaned[::-1]:\n",
    "        print(\"Yes, it is a palindrome\")\n",
    "    else:\n",
    "        print(\"No, it is not a palindrome\")\n",
    "\n",
    "# Execute the function\n",
    "check_palindrome()"
   ]
  },
  {
   "cell_type": "code",
   "execution_count": null,
   "id": "d1e10363",
   "metadata": {},
   "outputs": [],
   "source": []
  }
 ],
 "metadata": {
  "kernelspec": {
   "display_name": "venv",
   "language": "python",
   "name": "python3"
  },
  "language_info": {
   "codemirror_mode": {
    "name": "ipython",
    "version": 3
   },
   "file_extension": ".py",
   "mimetype": "text/x-python",
   "name": "python",
   "nbconvert_exporter": "python",
   "pygments_lexer": "ipython3",
   "version": "3.13.5"
  }
 },
 "nbformat": 4,
 "nbformat_minor": 5
}
